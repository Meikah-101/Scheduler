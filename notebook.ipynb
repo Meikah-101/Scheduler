{
 "cells": [
  {
   "cell_type": "code",
   "execution_count": null,
   "metadata": {},
   "outputs": [],
   "source": [
    "2+2"
   ]
  }
 ],
 "metadata": {
  "kernelspec": {
   "display_name": "Python 3.6.9 ('env_36_sched': virtualenv)",
   "language": "python",
   "name": "python3"
  },
  "language_info": {
   "name": "python",
   "version": "3.6.9"
  },
  "orig_nbformat": 4,
  "vscode": {
   "interpreter": {
    "hash": "7a8f7d7fbc73cc40c586c41da2ed1a3c0907e7e62fef8feaa414f43c8bea16e4"
   }
  }
 },
 "nbformat": 4,
 "nbformat_minor": 2
}
