{
 "cells": [
  {
   "cell_type": "code",
   "execution_count": 30,
   "metadata": {},
   "outputs": [],
   "source": [
    "import pandas as pd\n",
    "import numpy as np \n",
    "import random\n",
    "import csv\n",
    "def csvprinter():\n",
    "  file = pd.read_csv('tuff.csv')\n",
    "  date_column = file['dates']\n",
    "  names_column = file['names']\n",
    "  namesfile= pd.read_csv('names')\n",
    "  names_not_found = set(names_column).difference(namesfile)\n",
    "  shuffle_missing = random.shuffle(names_not_found)\n",
    "  for row in file:\n",
    "    if row == np.isnan:\n",
    "        row['names_column'].replace(np.nan, shuffle_missing)\n",
    "  with open('sch.csv', 'w', encoding='UTF8', newline='') as f:\n",
    "    writer = csv.writer(f)\n",
    "    writer.writerows(new.csv)\n",
    "    \n",
    "\n",
    "        \n",
    "        \n"
   ]
  },
  {
   "cell_type": "code",
   "execution_count": 6,
   "metadata": {},
   "outputs": [
    {
     "name": "stdout",
     "output_type": "stream",
     "text": [
      "['tommy', 'ben', 'fumfum', 'frank']\n",
      "0\n",
      "1\n",
      "2\n",
      "3\n"
     ]
    }
   ],
   "source": [
    "\n",
    "import pandas as pd\n",
    "import numpy as np \n",
    "import random\n",
    "import csv\n",
    "\n",
    "original_sechedule_path = \"tuff.csv\"  #insert path to original schedule csv file\n",
    "names_file = \"names\" #insert path to names txt file\n",
    "\n",
    "file = pd.read_csv('tuff.csv')\n",
    "new_schedule = pd.DataFrame(columns=['dates', 'names'])\n",
    "date_column = file['dates']\n",
    "names_column = file['names'] \n",
    "\n",
    "names_column_list = list(names_column)\n",
    "names_column_str = ','.join(map(str,names_column_list))\n",
    "replace_nan = names_column_str.replace('nan,', '')\n",
    "names_column_nowhite = replace_nan.strip()\n",
    "names_column_split = names_column_nowhite.split(\",\")\n",
    "\n",
    "\n",
    "with open('names') as f:\n",
    "    namesfile = f.read()\n",
    "names_nowhite = namesfile.replace(\" \", \"\")\n",
    "names_not_found = names_nowhite.split(\",\")\n",
    "new_names_set = set(names_not_found).difference(names_column_split) # find the names that are not found in the original schedule\n",
    "new_names_list = list(new_names_set)\n",
    "new_names_random = random.sample(new_names_list, len(new_names_list))\n",
    "name_counter = 0\n",
    "\n",
    "\n",
    "for index, row in file.iterrows():\n",
    "    if pd.isna(row.iloc[1]):\n",
    "        date = row.iloc[0]\n",
    "        print(name_counter)\n",
    "        name = new_names_random[name_counter]\n",
    "        name_counter = name_counter +1\n",
    "        \n",
    "        data = {'dates': [date], 'names': [name]}\n",
    "        new_entry = pd.DataFrame(data=data)\n",
    "        new_schedule = new_schedule.append(new_entry)\n",
    "        \n",
    "\n",
    "    else:\n",
    "        new_schedule = new_schedule.append(row)\n",
    "        \n",
    "\n",
    "new_schedule.to_csv('new_sch.csv' , index = False , columns = ['dates', 'names'])\n",
    "\n",
    "\n",
    "        \n",
    "        \n",
    "    \n",
    "\n",
    "    \n",
    "\n",
    "\n"
   ]
  },
  {
   "cell_type": "code",
   "execution_count": null,
   "metadata": {},
   "outputs": [],
   "source": [
    " date = row.iloc[0]\n",
    "        lenght = len(new_names_random)\n",
    "        name_counter = 0\n",
    "        while name_counter < lenght:\n",
    "            name_counter += 1"
   ]
  },
  {
   "cell_type": "code",
   "execution_count": 29,
   "metadata": {},
   "outputs": [
    {
     "name": "stdout",
     "output_type": "stream",
     "text": [
      "['ben', 'frank', 'tommy', 'fumfum']\n"
     ]
    }
   ],
   "source": [
    "dog=[]\n",
    "for i in new_names_random:\n",
    "            if dog not in dog:\n",
    "                dog.append(i)\n",
    "print(dog)\n"
   ]
  }
 ],
 "metadata": {
  "kernelspec": {
   "display_name": "Python 3.6.9 ('env_36_sched': virtualenv)",
   "language": "python",
   "name": "python3"
  },
  "language_info": {
   "codemirror_mode": {
    "name": "ipython",
    "version": 3
   },
   "file_extension": ".py",
   "mimetype": "text/x-python",
   "name": "python",
   "nbconvert_exporter": "python",
   "pygments_lexer": "ipython3",
   "version": "3.6.9"
  },
  "orig_nbformat": 4,
  "vscode": {
   "interpreter": {
    "hash": "7a8f7d7fbc73cc40c586c41da2ed1a3c0907e7e62fef8feaa414f43c8bea16e4"
   }
  }
 },
 "nbformat": 4,
 "nbformat_minor": 2
}
